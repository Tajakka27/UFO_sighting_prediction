{
 "cells": [
  {
   "cell_type": "markdown",
   "id": "63c59aff-abf8-4109-8bbe-c9f4d74dc256",
   "metadata": {},
   "source": [
    "# UFO Sightings Analysis\n",
    "## 📄 About the Dataset\n",
    "This dataset contains over **80,000 reports** of UFO (Unidentified Flying Object) sightings spanning the **last century**, sourced from the **National UFO Reporting Center (NUFORC)**.  \n",
    "It provides a rich source of information to explore **spatial**, **temporal**, and **descriptive** patterns in UFO reports across various regions."
   ]
  },
  {
   "cell_type": "markdown",
   "id": "6e05f65d-4de9-4148-bd79-0f3ab1a16f51",
   "metadata": {},
   "source": [
    "## Importing Libraries"
   ]
  },
  {
   "cell_type": "code",
   "execution_count": 92,
   "id": "f42ae290-3709-48a3-9c1f-6fd1dde3f0cf",
   "metadata": {},
   "outputs": [],
   "source": [
    "# importing libraries\n",
    "import numpy as np\n",
    "import pandas as pd\n",
    "import matplotlib.pyplot as plt\n",
    "import seaborn as sns\n",
    "%matplotlib inline\n",
    "import warnings \n",
    "warnings.filterwarnings('ignore')"
   ]
  },
  {
   "cell_type": "markdown",
   "id": "6a4bf954-635c-466f-a1ca-886c1f8444b0",
   "metadata": {},
   "source": [
    "## Load the Dataset"
   ]
  },
  {
   "cell_type": "code",
   "execution_count": 93,
   "id": "dd650c60-d9da-4a67-9a95-6a4b440041d3",
   "metadata": {},
   "outputs": [
    {
     "data": {
      "text/html": [
       "<div>\n",
       "<style scoped>\n",
       "    .dataframe tbody tr th:only-of-type {\n",
       "        vertical-align: middle;\n",
       "    }\n",
       "\n",
       "    .dataframe tbody tr th {\n",
       "        vertical-align: top;\n",
       "    }\n",
       "\n",
       "    .dataframe thead th {\n",
       "        text-align: right;\n",
       "    }\n",
       "</style>\n",
       "<table border=\"1\" class=\"dataframe\">\n",
       "  <thead>\n",
       "    <tr style=\"text-align: right;\">\n",
       "      <th></th>\n",
       "      <th>datetime</th>\n",
       "      <th>city</th>\n",
       "      <th>state</th>\n",
       "      <th>country</th>\n",
       "      <th>shape</th>\n",
       "      <th>duration (seconds)</th>\n",
       "      <th>duration (hours/min)</th>\n",
       "      <th>comments</th>\n",
       "      <th>date posted</th>\n",
       "      <th>latitude</th>\n",
       "      <th>longitude</th>\n",
       "    </tr>\n",
       "  </thead>\n",
       "  <tbody>\n",
       "    <tr>\n",
       "      <th>0</th>\n",
       "      <td>10/10/1949 20:30</td>\n",
       "      <td>san marcos</td>\n",
       "      <td>tx</td>\n",
       "      <td>us</td>\n",
       "      <td>cylinder</td>\n",
       "      <td>2700</td>\n",
       "      <td>45 minutes</td>\n",
       "      <td>This event took place in early fall around 194...</td>\n",
       "      <td>4/27/2004</td>\n",
       "      <td>29.8830556</td>\n",
       "      <td>-97.941111</td>\n",
       "    </tr>\n",
       "    <tr>\n",
       "      <th>1</th>\n",
       "      <td>10/10/1949 21:00</td>\n",
       "      <td>lackland afb</td>\n",
       "      <td>tx</td>\n",
       "      <td>NaN</td>\n",
       "      <td>light</td>\n",
       "      <td>7200</td>\n",
       "      <td>1-2 hrs</td>\n",
       "      <td>1949 Lackland AFB&amp;#44 TX.  Lights racing acros...</td>\n",
       "      <td>12/16/2005</td>\n",
       "      <td>29.38421</td>\n",
       "      <td>-98.581082</td>\n",
       "    </tr>\n",
       "    <tr>\n",
       "      <th>2</th>\n",
       "      <td>10/10/1955 17:00</td>\n",
       "      <td>chester (uk/england)</td>\n",
       "      <td>NaN</td>\n",
       "      <td>gb</td>\n",
       "      <td>circle</td>\n",
       "      <td>20</td>\n",
       "      <td>20 seconds</td>\n",
       "      <td>Green/Orange circular disc over Chester&amp;#44 En...</td>\n",
       "      <td>1/21/2008</td>\n",
       "      <td>53.2</td>\n",
       "      <td>-2.916667</td>\n",
       "    </tr>\n",
       "    <tr>\n",
       "      <th>3</th>\n",
       "      <td>10/10/1956 21:00</td>\n",
       "      <td>edna</td>\n",
       "      <td>tx</td>\n",
       "      <td>us</td>\n",
       "      <td>circle</td>\n",
       "      <td>20</td>\n",
       "      <td>1/2 hour</td>\n",
       "      <td>My older brother and twin sister were leaving ...</td>\n",
       "      <td>1/17/2004</td>\n",
       "      <td>28.9783333</td>\n",
       "      <td>-96.645833</td>\n",
       "    </tr>\n",
       "    <tr>\n",
       "      <th>4</th>\n",
       "      <td>10/10/1960 20:00</td>\n",
       "      <td>kaneohe</td>\n",
       "      <td>hi</td>\n",
       "      <td>us</td>\n",
       "      <td>light</td>\n",
       "      <td>900</td>\n",
       "      <td>15 minutes</td>\n",
       "      <td>AS a Marine 1st Lt. flying an FJ4B fighter/att...</td>\n",
       "      <td>1/22/2004</td>\n",
       "      <td>21.4180556</td>\n",
       "      <td>-157.803611</td>\n",
       "    </tr>\n",
       "  </tbody>\n",
       "</table>\n",
       "</div>"
      ],
      "text/plain": [
       "           datetime                  city state country     shape  \\\n",
       "0  10/10/1949 20:30            san marcos    tx      us  cylinder   \n",
       "1  10/10/1949 21:00          lackland afb    tx     NaN     light   \n",
       "2  10/10/1955 17:00  chester (uk/england)   NaN      gb    circle   \n",
       "3  10/10/1956 21:00                  edna    tx      us    circle   \n",
       "4  10/10/1960 20:00               kaneohe    hi      us     light   \n",
       "\n",
       "  duration (seconds) duration (hours/min)  \\\n",
       "0               2700           45 minutes   \n",
       "1               7200              1-2 hrs   \n",
       "2                 20           20 seconds   \n",
       "3                 20             1/2 hour   \n",
       "4                900           15 minutes   \n",
       "\n",
       "                                            comments date posted    latitude  \\\n",
       "0  This event took place in early fall around 194...   4/27/2004  29.8830556   \n",
       "1  1949 Lackland AFB&#44 TX.  Lights racing acros...  12/16/2005    29.38421   \n",
       "2  Green/Orange circular disc over Chester&#44 En...   1/21/2008        53.2   \n",
       "3  My older brother and twin sister were leaving ...   1/17/2004  28.9783333   \n",
       "4  AS a Marine 1st Lt. flying an FJ4B fighter/att...   1/22/2004  21.4180556   \n",
       "\n",
       "   longitude   \n",
       "0  -97.941111  \n",
       "1  -98.581082  \n",
       "2   -2.916667  \n",
       "3  -96.645833  \n",
       "4 -157.803611  "
      ]
     },
     "execution_count": 93,
     "metadata": {},
     "output_type": "execute_result"
    }
   ],
   "source": [
    "df_ = pd.read_csv(\"scrubbed_ufo.csv\")\n",
    "df_.head()"
   ]
  },
  {
   "cell_type": "code",
   "execution_count": 94,
   "id": "4619d874-f8fa-4650-862c-4e5383e4d537",
   "metadata": {},
   "outputs": [
    {
     "data": {
      "text/plain": [
       "(88674, 12)"
      ]
     },
     "execution_count": 94,
     "metadata": {},
     "output_type": "execute_result"
    }
   ],
   "source": [
    "df.shape"
   ]
  },
  {
   "cell_type": "code",
   "execution_count": 95,
   "id": "b30cd8a1-4025-4439-a1ba-3d2e6c1f1004",
   "metadata": {},
   "outputs": [
    {
     "data": {
      "text/plain": [
       "datetime              0\n",
       "city                  0\n",
       "state                 0\n",
       "country               0\n",
       "shape                 0\n",
       "duration (seconds)    0\n",
       "comments              0\n",
       "date posted           0\n",
       "latitude              0\n",
       "longitude             0\n",
       "year                  0\n",
       "month                 0\n",
       "dtype: int64"
      ]
     },
     "execution_count": 95,
     "metadata": {},
     "output_type": "execute_result"
    }
   ],
   "source": [
    "df.isna().sum()"
   ]
  },
  {
   "cell_type": "code",
   "execution_count": 96,
   "id": "d98176bf-b767-4e09-83d6-f2586208033e",
   "metadata": {},
   "outputs": [
    {
     "name": "stdout",
     "output_type": "stream",
     "text": [
      "datetime: 0.00%\n",
      "city: 0.00%\n",
      "state: 7.22%\n",
      "country: 12.04%\n",
      "shape: 2.41%\n",
      "duration (seconds): 0.00%\n",
      "duration (hours/min): 0.00%\n",
      "comments: 0.02%\n",
      "date posted: 0.00%\n",
      "latitude: 0.00%\n",
      "longitude : 0.00%\n"
     ]
    }
   ],
   "source": [
    "total_rows = len(df_)\n",
    "missing_percent = df_.isnull().sum() * 100 / total_rows\n",
    "\n",
    "# Print each column's missing percentage up to 5 decimal places\n",
    "for column, percent in missing_percent.items():\n",
    "    print(f\"{column}: {percent:.2f}%\")"
   ]
  },
  {
   "cell_type": "code",
   "execution_count": 97,
   "id": "49e73f8a-b747-4966-9876-1c3a4fc6957b",
   "metadata": {},
   "outputs": [
    {
     "name": "stdout",
     "output_type": "stream",
     "text": [
      "<class 'pandas.core.frame.DataFrame'>\n",
      "Index: 88674 entries, 0 to 88678\n",
      "Data columns (total 12 columns):\n",
      " #   Column              Non-Null Count  Dtype         \n",
      "---  ------              --------------  -----         \n",
      " 0   datetime            88674 non-null  datetime64[ns]\n",
      " 1   city                88674 non-null  object        \n",
      " 2   state               88674 non-null  object        \n",
      " 3   country             88674 non-null  object        \n",
      " 4   shape               88674 non-null  object        \n",
      " 5   duration (seconds)  88674 non-null  float64       \n",
      " 6   comments            88674 non-null  object        \n",
      " 7   date posted         88674 non-null  datetime64[ns]\n",
      " 8   latitude            88674 non-null  float64       \n",
      " 9   longitude           88674 non-null  float64       \n",
      " 10  year                88674 non-null  int32         \n",
      " 11  month               88674 non-null  int32         \n",
      "dtypes: datetime64[ns](2), float64(3), int32(2), object(5)\n",
      "memory usage: 8.1+ MB\n"
     ]
    }
   ],
   "source": [
    "df.info()"
   ]
  },
  {
   "cell_type": "markdown",
   "id": "ee1dcefc-7680-4435-b6c5-4778640fb29f",
   "metadata": {},
   "source": [
    "**Problem:**  \n",
    "Most columns in the dataset, including dates, durations, and geographic coordinates, are currently stored as **object (string) data types**. This prevents efficient data analysis, numerical computations, and time-based operations.\n",
    "\n",
    "**Solution:**  \n",
    "- Convert `datetime` and `date posted` columns to proper **datetime** objects to enable time-series analysis.  \n",
    "- Convert `duration (seconds)` and `latitude` columns to **numeric** types to allow mathematical operations and filtering.  \n",
    "- Handle any invalid or malformed data by coercing errors to `NaN`, which can then be addressed through cleaning or imputation.  \n",
    "- These conversions are essential for accurate and meaningful exploratory data analysis (EDA) and visualization."
   ]
  },
  {
   "cell_type": "markdown",
   "id": "d636e1e0-5e97-44e2-b939-b4944670791b",
   "metadata": {},
   "source": [
    "## Convert datetime columns to datetime dtype"
   ]
  },
  {
   "cell_type": "code",
   "execution_count": 98,
   "id": "8e1eccde-500d-4839-b14f-f6f8f1c606d1",
   "metadata": {},
   "outputs": [],
   "source": [
    "# Convert datetime columns to datetime dtype\n",
    "df['datetime'] = pd.to_datetime(df_['datetime'], errors='coerce')\n",
    "df['date posted'] = pd.to_datetime(df_['date posted'], errors='coerce')"
   ]
  },
  {
   "cell_type": "code",
   "execution_count": 99,
   "id": "3b5aea07-e597-4d77-9e5c-d59509debd78",
   "metadata": {},
   "outputs": [],
   "source": [
    "# Convert latitude and longitude to numeric\n",
    "df['latitude'] = pd.to_numeric(df['latitude'], errors='coerce')\n",
    "df['longitude'] = pd.to_numeric(df['longitude'], errors='coerce')\n",
    "df['duration (seconds)'] = pd.to_numeric(df['duration (seconds)'], errors='coerce')"
   ]
  },
  {
   "cell_type": "code",
   "execution_count": 100,
   "id": "643c8af3-bb08-49ae-8f4d-98558f750e9a",
   "metadata": {},
   "outputs": [
    {
     "name": "stdout",
     "output_type": "stream",
     "text": [
      "<class 'pandas.core.frame.DataFrame'>\n",
      "Index: 88674 entries, 0 to 88678\n",
      "Data columns (total 12 columns):\n",
      " #   Column              Non-Null Count  Dtype         \n",
      "---  ------              --------------  -----         \n",
      " 0   datetime            79633 non-null  datetime64[ns]\n",
      " 1   city                88674 non-null  object        \n",
      " 2   state               88674 non-null  object        \n",
      " 3   country             88674 non-null  object        \n",
      " 4   shape               88674 non-null  object        \n",
      " 5   duration (seconds)  88674 non-null  float64       \n",
      " 6   comments            88674 non-null  object        \n",
      " 7   date posted         80327 non-null  datetime64[ns]\n",
      " 8   latitude            88674 non-null  float64       \n",
      " 9   longitude           88674 non-null  float64       \n",
      " 10  year                88674 non-null  int32         \n",
      " 11  month               88674 non-null  int32         \n",
      "dtypes: datetime64[ns](2), float64(3), int32(2), object(5)\n",
      "memory usage: 8.1+ MB\n"
     ]
    }
   ],
   "source": [
    "df.info()"
   ]
  },
  {
   "cell_type": "markdown",
   "id": "38f34edd-2461-4dd5-b206-f79e27be4240",
   "metadata": {},
   "source": [
    "### ⏱️ Duration Column Cleanup\n",
    "\n",
    "- The dataset includes two duration fields: `duration (seconds)` and `duration (hours/min)`.\n",
    "- `duration (seconds)` is a clean, standardized numeric field indicating how long the sighting lasted.\n",
    "- `duration (hours/min)` is a free-text field with inconsistent formats (e.g., \"1-2 hrs\", \"45 minutes\", \"1/2 hour\"), making it unreliable for analysis.\n",
    "- We converted `duration (seconds)` to numeric and dropped `duration (hours/min)` to ensure clean, consistent data.\n"
   ]
  },
  {
   "cell_type": "code",
   "execution_count": 101,
   "id": "39797fd0-ec5a-4a0c-98d5-f5ec2ee3b3ec",
   "metadata": {},
   "outputs": [
    {
     "ename": "KeyError",
     "evalue": "\"['duration (hours/min)'] not found in axis\"",
     "output_type": "error",
     "traceback": [
      "\u001b[31m---------------------------------------------------------------------------\u001b[39m",
      "\u001b[31mKeyError\u001b[39m                                  Traceback (most recent call last)",
      "\u001b[36mCell\u001b[39m\u001b[36m \u001b[39m\u001b[32mIn[101]\u001b[39m\u001b[32m, line 1\u001b[39m\n\u001b[32m----> \u001b[39m\u001b[32m1\u001b[39m df.drop(columns=[\u001b[33m'\u001b[39m\u001b[33mduration (hours/min)\u001b[39m\u001b[33m'\u001b[39m], inplace=\u001b[38;5;28;01mTrue\u001b[39;00m)\n",
      "\u001b[36mFile \u001b[39m\u001b[32m~\\anaconda3\\envs\\ufo_sighting\\Lib\\site-packages\\pandas\\core\\frame.py:5581\u001b[39m, in \u001b[36mDataFrame.drop\u001b[39m\u001b[34m(self, labels, axis, index, columns, level, inplace, errors)\u001b[39m\n\u001b[32m   5433\u001b[39m \u001b[38;5;28;01mdef\u001b[39;00m\u001b[38;5;250m \u001b[39m\u001b[34mdrop\u001b[39m(\n\u001b[32m   5434\u001b[39m     \u001b[38;5;28mself\u001b[39m,\n\u001b[32m   5435\u001b[39m     labels: IndexLabel | \u001b[38;5;28;01mNone\u001b[39;00m = \u001b[38;5;28;01mNone\u001b[39;00m,\n\u001b[32m   (...)\u001b[39m\u001b[32m   5442\u001b[39m     errors: IgnoreRaise = \u001b[33m\"\u001b[39m\u001b[33mraise\u001b[39m\u001b[33m\"\u001b[39m,\n\u001b[32m   5443\u001b[39m ) -> DataFrame | \u001b[38;5;28;01mNone\u001b[39;00m:\n\u001b[32m   5444\u001b[39m \u001b[38;5;250m    \u001b[39m\u001b[33;03m\"\"\"\u001b[39;00m\n\u001b[32m   5445\u001b[39m \u001b[33;03m    Drop specified labels from rows or columns.\u001b[39;00m\n\u001b[32m   5446\u001b[39m \n\u001b[32m   (...)\u001b[39m\u001b[32m   5579\u001b[39m \u001b[33;03m            weight  1.0     0.8\u001b[39;00m\n\u001b[32m   5580\u001b[39m \u001b[33;03m    \"\"\"\u001b[39;00m\n\u001b[32m-> \u001b[39m\u001b[32m5581\u001b[39m     \u001b[38;5;28;01mreturn\u001b[39;00m \u001b[38;5;28msuper\u001b[39m().drop(\n\u001b[32m   5582\u001b[39m         labels=labels,\n\u001b[32m   5583\u001b[39m         axis=axis,\n\u001b[32m   5584\u001b[39m         index=index,\n\u001b[32m   5585\u001b[39m         columns=columns,\n\u001b[32m   5586\u001b[39m         level=level,\n\u001b[32m   5587\u001b[39m         inplace=inplace,\n\u001b[32m   5588\u001b[39m         errors=errors,\n\u001b[32m   5589\u001b[39m     )\n",
      "\u001b[36mFile \u001b[39m\u001b[32m~\\anaconda3\\envs\\ufo_sighting\\Lib\\site-packages\\pandas\\core\\generic.py:4788\u001b[39m, in \u001b[36mNDFrame.drop\u001b[39m\u001b[34m(self, labels, axis, index, columns, level, inplace, errors)\u001b[39m\n\u001b[32m   4786\u001b[39m \u001b[38;5;28;01mfor\u001b[39;00m axis, labels \u001b[38;5;129;01min\u001b[39;00m axes.items():\n\u001b[32m   4787\u001b[39m     \u001b[38;5;28;01mif\u001b[39;00m labels \u001b[38;5;129;01mis\u001b[39;00m \u001b[38;5;129;01mnot\u001b[39;00m \u001b[38;5;28;01mNone\u001b[39;00m:\n\u001b[32m-> \u001b[39m\u001b[32m4788\u001b[39m         obj = obj._drop_axis(labels, axis, level=level, errors=errors)\n\u001b[32m   4790\u001b[39m \u001b[38;5;28;01mif\u001b[39;00m inplace:\n\u001b[32m   4791\u001b[39m     \u001b[38;5;28mself\u001b[39m._update_inplace(obj)\n",
      "\u001b[36mFile \u001b[39m\u001b[32m~\\anaconda3\\envs\\ufo_sighting\\Lib\\site-packages\\pandas\\core\\generic.py:4830\u001b[39m, in \u001b[36mNDFrame._drop_axis\u001b[39m\u001b[34m(self, labels, axis, level, errors, only_slice)\u001b[39m\n\u001b[32m   4828\u001b[39m         new_axis = axis.drop(labels, level=level, errors=errors)\n\u001b[32m   4829\u001b[39m     \u001b[38;5;28;01melse\u001b[39;00m:\n\u001b[32m-> \u001b[39m\u001b[32m4830\u001b[39m         new_axis = axis.drop(labels, errors=errors)\n\u001b[32m   4831\u001b[39m     indexer = axis.get_indexer(new_axis)\n\u001b[32m   4833\u001b[39m \u001b[38;5;66;03m# Case for non-unique axis\u001b[39;00m\n\u001b[32m   4834\u001b[39m \u001b[38;5;28;01melse\u001b[39;00m:\n",
      "\u001b[36mFile \u001b[39m\u001b[32m~\\anaconda3\\envs\\ufo_sighting\\Lib\\site-packages\\pandas\\core\\indexes\\base.py:7070\u001b[39m, in \u001b[36mIndex.drop\u001b[39m\u001b[34m(self, labels, errors)\u001b[39m\n\u001b[32m   7068\u001b[39m \u001b[38;5;28;01mif\u001b[39;00m mask.any():\n\u001b[32m   7069\u001b[39m     \u001b[38;5;28;01mif\u001b[39;00m errors != \u001b[33m\"\u001b[39m\u001b[33mignore\u001b[39m\u001b[33m\"\u001b[39m:\n\u001b[32m-> \u001b[39m\u001b[32m7070\u001b[39m         \u001b[38;5;28;01mraise\u001b[39;00m \u001b[38;5;167;01mKeyError\u001b[39;00m(\u001b[33mf\u001b[39m\u001b[33m\"\u001b[39m\u001b[38;5;132;01m{\u001b[39;00mlabels[mask].tolist()\u001b[38;5;132;01m}\u001b[39;00m\u001b[33m not found in axis\u001b[39m\u001b[33m\"\u001b[39m)\n\u001b[32m   7071\u001b[39m     indexer = indexer[~mask]\n\u001b[32m   7072\u001b[39m \u001b[38;5;28;01mreturn\u001b[39;00m \u001b[38;5;28mself\u001b[39m.delete(indexer)\n",
      "\u001b[31mKeyError\u001b[39m: \"['duration (hours/min)'] not found in axis\""
     ]
    }
   ],
   "source": [
    "df.drop(columns=['duration (hours/min)'], inplace=True)"
   ]
  },
  {
   "cell_type": "code",
   "execution_count": null,
   "id": "ffff969c-c536-4a41-ad6d-cf8eb1cdbc5a",
   "metadata": {},
   "outputs": [],
   "source": [
    "# Sort the dataset features to numerical and categorical categories.\n",
    "numerical_cols = []\n",
    "categorical_cols = []\n",
    "for col in df.columns:\n",
    "    if pd.api.types.is_numeric_dtype(df[col]):\n",
    "            numerical_cols.append(col)\n",
    "    else:\n",
    "        categorical_cols.append(col)\n",
    "\n",
    "print(\"numerical Columns: \")\n",
    "print(numerical_cols)\n",
    "\n",
    "print(\"categorical Columns: \")\n",
    "print(categorical_cols)"
   ]
  },
  {
   "cell_type": "code",
   "execution_count": null,
   "id": "0c91dcc9-0863-48fa-a04e-3e4edb7b3e54",
   "metadata": {},
   "outputs": [],
   "source": [
    "df.describe().T"
   ]
  },
  {
   "cell_type": "code",
   "execution_count": null,
   "id": "beed5e2b-3ac2-4b60-839c-ae13fc677f27",
   "metadata": {},
   "outputs": [],
   "source": [
    "# print the percentage of missing values for instances.\n",
    "total = df.isnull().sum().sort_values(ascending = False)[df.isnull().sum().sort_values(ascending = False) != 0]\n",
    "percent = ((df.isnull().sum() / df.isnull().count()).sort_values(ascending = False)[(df.isnull().sum() / df.isnull().count()).sort_values(ascending = False) != 0])\n",
    "missing = pd.concat([total, percent], axis = 1, keys = ['Total', 'Percent'])\n",
    "print(missing)"
   ]
  },
  {
   "cell_type": "markdown",
   "id": "54881020-dbe0-4569-b577-e9420a3384b0",
   "metadata": {},
   "source": [
    "# Data Cleaning using simpleImputer \n",
    "\n",
    "### 🛠️ Imputation\n",
    "\n",
    "- Use subject-matter expertise to replace missing data with educated guesses  \n",
    "- Common to use the mean  \n",
    "- Can also use the median, or another value  \n",
    "- For categorical values, we typically use the most frequent value — the mode\n"
   ]
  },
  {
   "cell_type": "code",
   "execution_count": null,
   "id": "d4421320-e9cf-40bd-acab-ad27e063afdc",
   "metadata": {},
   "outputs": [],
   "source": [
    "from sklearn.impute import SimpleImputer\n",
    "\n",
    "# Impute missing values in categorical columns using the most frequent value\n",
    "imputer = SimpleImputer(missing_values=np.nan, strategy='most_frequent')\n",
    "df[['datetime', 'state', 'country',\"date posted\"]] = imputer.fit_transform(\n",
    "    df[['datetime', 'state', 'country', \"date posted\"]]\n",
    ")\n",
    "\n",
    "# Drop rows where latitude or duration (seconds) is missing\n",
    "df.dropna(subset=['latitude', 'duration (seconds)', \"shape\",'comments'], inplace=True)\n",
    "\n",
    "# Preview cleaned DataFrame\n",
    "df.head()"
   ]
  },
  {
   "cell_type": "code",
   "execution_count": null,
   "id": "2bb883f5-d160-41c2-a681-2610ed1811d3",
   "metadata": {},
   "outputs": [],
   "source": [
    "df.isna().sum()"
   ]
  },
  {
   "cell_type": "markdown",
   "id": "a908919b-1133-433c-9a91-c8c87c34378c",
   "metadata": {},
   "source": [
    "### 📉 Missing Data Summary & Strategy\n",
    "\n",
    "- `country`, `datetime`, `date posted`, and `state` have moderate missing values (~8–14%) and were imputed using the **most frequent value**.\n",
    "- `duration (seconds)` , `latitude` , `shape` and `comments` had negligible missing values (<5%) and so we dropped the values."
   ]
  },
  {
   "cell_type": "markdown",
   "id": "5174e91a-062e-45ca-bb27-fac65c69c57a",
   "metadata": {},
   "source": [
    "### 🌠 Inspiration\n",
    "\n",
    "This dataset opens up a wide range of fascinating questions for exploration:\n",
    "\n",
    "- What states of the country are most likely to have UFO sightings?\n",
    "\n",
    "- Are there any trends in UFO sightings over time?  \n",
    "\n",
    "-  What are the most common descriptions or shapes of reported UFOs?"
   ]
  },
  {
   "cell_type": "markdown",
   "id": "d4d6f59c-c3ea-42a2-b47a-3a7929026556",
   "metadata": {},
   "source": [
    "## What countries have the most UFO sightings?"
   ]
  },
  {
   "cell_type": "code",
   "execution_count": null,
   "id": "b22d977d-0073-49fa-9fc5-3d136659f11f",
   "metadata": {},
   "outputs": [],
   "source": [
    "df['country'].value_counts()"
   ]
  },
  {
   "cell_type": "code",
   "execution_count": null,
   "id": "4416142f-8b89-41a2-8353-97a58a653902",
   "metadata": {},
   "outputs": [],
   "source": [
    "top_countries = df['country'].value_counts()\n",
    "plt.figure(figsize=(10, 6))\n",
    "sns.barplot(x=top_countries.values, y=top_countries.index, palette='viridis')\n",
    "plt.title(\"Top 10 countries with Most UFO Sightings\")\n",
    "plt.xlabel(\"Number of Sightings\")\n",
    "plt.ylabel(\"country\")\n",
    "plt.tight_layout()\n",
    "plt.show()"
   ]
  },
  {
   "cell_type": "markdown",
   "id": "1576d383-0247-48cb-ac47-626e5a23e0c7",
   "metadata": {},
   "source": [
    "## What states have the most UFO sightings?\n",
    "for top 10 states"
   ]
  },
  {
   "cell_type": "code",
   "execution_count": null,
   "id": "932c502d-c47b-478b-b665-381411e1c6fd",
   "metadata": {},
   "outputs": [],
   "source": [
    "df['state'].value_counts()"
   ]
  },
  {
   "cell_type": "code",
   "execution_count": null,
   "id": "4c73a12e-0b91-4c59-95d1-bf01557705cb",
   "metadata": {},
   "outputs": [],
   "source": [
    "top_states = df['state'].value_counts().head(10)\n",
    "plt.figure(figsize=(10, 6))\n",
    "sns.barplot(x=top_states.values, y=top_states.index, palette='viridis')\n",
    "plt.title(\"Top 10 States with Most UFO Sightings\")\n",
    "plt.xlabel(\"Number of Sightings\")\n",
    "plt.ylabel(\"State\")\n",
    "plt.tight_layout()\n",
    "plt.show()"
   ]
  },
  {
   "cell_type": "markdown",
   "id": "6cfaaeba-3e39-4460-bc95-bf9e10ea6015",
   "metadata": {},
   "source": [
    "## Are there any trends in UFO sightings over time? Do they tend to be clustered or seasonal?"
   ]
  },
  {
   "cell_type": "code",
   "execution_count": null,
   "id": "74ac5053-1bb3-44b1-b85d-1ccf272b70be",
   "metadata": {},
   "outputs": [],
   "source": [
    "# Extract year and month\n",
    "df['year'] = df['datetime'].dt.year\n",
    "df['month'] = df['datetime'].dt.month\n"
   ]
  },
  {
   "cell_type": "markdown",
   "id": "eb722f0b-f565-4d44-bb3a-0859288bccf1",
   "metadata": {},
   "source": [
    "## yearly trend"
   ]
  },
  {
   "cell_type": "code",
   "execution_count": null,
   "id": "81d65813-acda-402a-a505-556ba8d7cd33",
   "metadata": {},
   "outputs": [],
   "source": [
    "# Count sightings per year\n",
    "sightings_by_year = df['year'].value_counts().sort_index()\n",
    "\n",
    "plt.figure(figsize=(12,6))\n",
    "plt.plot(sightings_by_year.index, sightings_by_year.values, marker='o')\n",
    "plt.title('UFO Sightings Over the Years')\n",
    "plt.xlabel('Year')\n",
    "plt.ylabel('Number of Sightings')\n",
    "plt.grid(True)\n",
    "plt.tight_layout()\n",
    "plt.show()"
   ]
  },
  {
   "cell_type": "markdown",
   "id": "1bc0765e-29e0-4170-a0af-9900e32e1ec8",
   "metadata": {},
   "source": [
    "## 📊 Post-1990 UFO Sightings Trend\n",
    "\n",
    "It can be observed that after approximately **1990**, the number of UFO sightings began to **increase dramatically**, likely due to the rise of internet usage, media coverage, and easier reporting.\n",
    "\n",
    "However, around **2010**, there is a noticeable **plummet** in sightings. This might be due to a change in reporting behavior, societal interest, or data collection methods.\n",
    "\n",
    "Let’s visualize this in more detail using a barplot of yearly sightings from 1990 onward.\n"
   ]
  },
  {
   "cell_type": "code",
   "execution_count": null,
   "id": "7b6d1d5b-277e-4254-86af-4b09e3634d98",
   "metadata": {},
   "outputs": [],
   "source": [
    "# Filter sightings from the year 2000 and onwards\n",
    "sightings_2000_onward = sightings_by_year[sightings_by_year.index >= 1990]\n",
    "\n",
    "# Bar plot for sightings from 2000 onwards\n",
    "plt.figure(figsize=(12, 6))\n",
    "sns.barplot(x=sightings_2000_onward.index, y=sightings_2000_onward.values, palette='viridis')\n",
    "plt.title('UFO Sightings from 1990 Onward')\n",
    "plt.xlabel('Year')\n",
    "plt.ylabel('Number of Sightings')\n",
    "plt.xticks(rotation=45)\n",
    "plt.tight_layout()\n",
    "plt.show()"
   ]
  },
  {
   "cell_type": "markdown",
   "id": "13c74e30-c011-4f0f-8ad7-86ba7f79e8eb",
   "metadata": {},
   "source": [
    "## seasonal trend (monthly aggregated across years)"
   ]
  },
  {
   "cell_type": "code",
   "execution_count": null,
   "id": "33d143e4-3c0b-4397-8c4a-679fffa66b7f",
   "metadata": {
    "scrolled": true
   },
   "outputs": [],
   "source": [
    "# Count sightings per month\n",
    "sightings_by_month = df['month'].value_counts().sort_index()\n",
    "\n",
    "plt.figure(figsize=(10,5))\n",
    "sns.barplot(x=sightings_by_month.index, y=sightings_by_month.values, palette='coolwarm')\n",
    "plt.title('Seasonal Trend of UFO Sightings (All Years Combined)')\n",
    "plt.xlabel('Month')\n",
    "plt.ylabel('Number of Sightings')\n",
    "plt.xticks(ticks=range(12), labels=['Jan', 'Feb', 'Mar', 'Apr', 'May', 'Jun', 'Jul', 'Aug', 'Sep', 'Oct', 'Nov', 'Dec'])\n",
    "plt.tight_layout()\n",
    "plt.show()\n"
   ]
  },
  {
   "cell_type": "markdown",
   "id": "a3500e28-78e6-4b17-8834-88036a4661a2",
   "metadata": {},
   "source": [
    "## Seasonal Trend Observation\n",
    "\n",
    "It can be seen that during **July**, the number of UFO sightings **skyrocketed** compared to other months. This suggests a possible seasonal effect, where sightings peak in mid-summer. Further analysis could explore whether this trend repeats every year or is influenced by specific events or environmental factors.\n"
   ]
  },
  {
   "cell_type": "markdown",
   "id": "c0d69c95-b430-4592-9ce6-c83a9f0cb724",
   "metadata": {},
   "source": [
    "## 👽 Most Common UFO Descriptions"
   ]
  },
  {
   "cell_type": "code",
   "execution_count": null,
   "id": "1403806d-7de9-46dd-b803-48e20ad799c0",
   "metadata": {},
   "outputs": [],
   "source": [
    "df['shape'].value_counts()"
   ]
  },
  {
   "cell_type": "code",
   "execution_count": null,
   "id": "f3a563b0-18e0-41d3-9c62-fd015a05b557",
   "metadata": {},
   "outputs": [],
   "source": [
    "# Count top 10 most common UFO shapes\n",
    "top_shapes = df['shape'].value_counts().head(10)\n",
    "\n",
    "# Plot the results\n",
    "plt.figure(figsize=(10, 6))\n",
    "sns.barplot(x=top_shapes.values, y=top_shapes.index, palette='magma')\n",
    "plt.title('🔺 Top 10 Most Common UFO Descriptions (Shapes)')\n",
    "plt.xlabel('Number of Sightings')\n",
    "plt.ylabel('UFO Shape')\n",
    "plt.tight_layout()\n",
    "plt.show()\n"
   ]
  },
  {
   "cell_type": "markdown",
   "id": "677f4147-3773-4ea5-acb3-7c33d2b48f2b",
   "metadata": {},
   "source": [
    "After analyzing the `shape` column in the dataset, it is evident that the most commonly reported shape of UFOs is:\n",
    "\n",
    "### **Light**"
   ]
  },
  {
   "cell_type": "code",
   "execution_count": null,
   "id": "1449ba1b-6a34-41b8-a8cc-5c076403a0f9",
   "metadata": {},
   "outputs": [],
   "source": []
  }
 ],
 "metadata": {
  "kernelspec": {
   "display_name": "Python 3 (ipykernel)",
   "language": "python",
   "name": "python3"
  },
  "language_info": {
   "codemirror_mode": {
    "name": "ipython",
    "version": 3
   },
   "file_extension": ".py",
   "mimetype": "text/x-python",
   "name": "python",
   "nbconvert_exporter": "python",
   "pygments_lexer": "ipython3",
   "version": "3.13.5"
  }
 },
 "nbformat": 4,
 "nbformat_minor": 5
}
